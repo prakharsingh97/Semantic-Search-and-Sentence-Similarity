{
 "cells": [
  {
   "cell_type": "code",
   "execution_count": 1,
   "metadata": {},
   "outputs": [],
   "source": [
    "import scipy\n",
    "import numpy as np\n",
    "from sentence_transformers import models, SentenceTransformer\n",
    "\n",
    "model = SentenceTransformer('distiluse-base-multilingual-cased')"
   ]
  },
  {
   "cell_type": "code",
   "execution_count": 2,
   "metadata": {},
   "outputs": [],
   "source": [
    "# Corpus with example sentences, some sentences were swapped to French, Italian and German\n",
    "corpus = ['Un homme mange de la nourriture.', #FR 'A man is eating food.',\n",
    "          'A man is eating a piece of bread.',\n",
    "          'Das Mädchen trägt ein Baby.', #DE 'Tahe girl is carrying a baby.',\n",
    "          'A man is riding a horse.',\n",
    "          'An elderly man is enjoying dinner.',\n",
    "          'Amis partageant du vin dans un restaurant.', #FR 'Friends sharing wine at a restaurant.',\n",
    "          'A woman is playing violin.',\n",
    "          'A child is learning to play a base guitar.',\n",
    "          'Due uomini hanno spinto i carrelli attraverso i boschi.', #IT 'Two men pushed carts through the woods.',\n",
    "          'A man is riding a white horse on an enclosed ground.',\n",
    "          'Una scimmia suona la batteria.', #IT 'A monkey is playing drums.',\n",
    "          'A cheetah is running behind its prey.']\n",
    "\n",
    "corpus_embeddings = model.encode(corpus)"
   ]
  },
  {
   "cell_type": "code",
   "execution_count": 3,
   "metadata": {},
   "outputs": [],
   "source": [
    "# Sample queries to find similar sentences to, some sentences were translated to Russian and German.\n",
    "queries = ['A man is eating pasta.', \n",
    "           'Кто-то в костюме гориллы играет на барабане', #RU 'Someone in a gorilla costume is playing a set of drums.', \n",
    "           'Ein Gepard jagt Beute über ein Feld.'] #DE 'A cheetah chases prey on across a field.']\n",
    "query_embeddings = model.encode(queries)"
   ]
  },
  {
   "cell_type": "code",
   "execution_count": 4,
   "metadata": {},
   "outputs": [
    {
     "name": "stdout",
     "output_type": "stream",
     "text": [
      "\n",
      "======================\n",
      "\n",
      "Query: A man is eating pasta.\n",
      "\n",
      "Top 3 most similar sentences in corpus:\n",
      "Un homme mange de la nourriture. (Score: 0.7106)\n",
      "A man is eating a piece of bread. (Score: 0.6306)\n",
      "An elderly man is enjoying dinner. (Score: 0.4808)\n",
      "\n",
      "======================\n",
      "\n",
      "Query: Кто-то в костюме гориллы играет на барабане\n",
      "\n",
      "Top 3 most similar sentences in corpus:\n",
      "Una scimmia suona la batteria. (Score: 0.5813)\n",
      "A woman is playing violin. (Score: 0.3823)\n",
      "A child is learning to play a base guitar. (Score: 0.3341)\n",
      "\n",
      "======================\n",
      "\n",
      "Query: Ein Gepard jagt Beute über ein Feld.\n",
      "\n",
      "Top 3 most similar sentences in corpus:\n",
      "A cheetah is running behind its prey. (Score: 0.4491)\n",
      "Una scimmia suona la batteria. (Score: 0.3389)\n",
      "Due uomini hanno spinto i carrelli attraverso i boschi. (Score: 0.3238)\n"
     ]
    }
   ],
   "source": [
    "# Calculate Cosine similarity of query against each sentence i\n",
    "closest_n = 3\n",
    "for query, query_embedding in zip(queries, query_embeddings):\n",
    "    distances = scipy.spatial.distance.cdist([query_embedding], corpus_embeddings, \"cosine\")[0]\n",
    "\n",
    "    results = zip(range(len(distances)), distances)\n",
    "    results = sorted(results, key=lambda x: x[1])\n",
    "\n",
    "    print(\"\\n======================\\n\")\n",
    "    print(\"Query:\", query)\n",
    "    print(\"\\nTop 3 most similar sentences in corpus:\")\n",
    "\n",
    "    for idx, distance in results[0:closest_n]:\n",
    "        print(corpus[idx].strip(), \"(Score: %.4f)\" % (1-distance))"
   ]
  },
  {
   "cell_type": "code",
   "execution_count": 13,
   "metadata": {},
   "outputs": [],
   "source": []
  },
  {
   "cell_type": "code",
   "execution_count": null,
   "metadata": {},
   "outputs": [],
   "source": []
  }
 ],
 "metadata": {
  "kernelspec": {
   "display_name": "Python 3",
   "language": "python",
   "name": "python3"
  },
  "language_info": {
   "codemirror_mode": {
    "name": "ipython",
    "version": 3
   },
   "file_extension": ".py",
   "mimetype": "text/x-python",
   "name": "python",
   "nbconvert_exporter": "python",
   "pygments_lexer": "ipython3",
   "version": "3.8.5"
  }
 },
 "nbformat": 4,
 "nbformat_minor": 4
}
